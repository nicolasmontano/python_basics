{
 "cells": [
  {
   "cell_type": "markdown",
   "metadata": {},
   "source": [
    "# Numpy\n",
    "- Most used methods"
   ]
  },
  {
   "cell_type": "code",
   "execution_count": 4,
   "metadata": {},
   "outputs": [],
   "source": [
    "import numpy as np"
   ]
  },
  {
   "cell_type": "markdown",
   "metadata": {},
   "source": [
    "# Create Methods"
   ]
  },
  {
   "cell_type": "code",
   "execution_count": 108,
   "metadata": {},
   "outputs": [
    {
     "name": "stdout",
     "output_type": "stream",
     "text": [
      "array: [1 1 1 1]\n",
      "zeros: [0. 0. 0. 0.]\n",
      "ones: [1. 1. 1. 1.]\n",
      "identity: [[1.]]\n",
      "random_int: [[1 1]]\n",
      "random_float: [[0.56780172 0.96773714]]\n"
     ]
    }
   ],
   "source": [
    "example_arrays={}\n",
    "example_arrays['array']=np.array([1,1,1,1])\n",
    "example_arrays['zeros']=np.zeros(4)\n",
    "example_arrays['ones']=np.ones(4)\n",
    "example_arrays['identity']=np.eye(1)\n",
    "example_arrays['random_int']=np.random.randint(1,4,size=(1,2))\n",
    "example_arrays['random_float']=np.random.random((1,2))\n",
    "\n",
    "for key,value in example_arrays.items():\n",
    "    print(f\"{key}: {value}\")"
   ]
  },
  {
   "cell_type": "markdown",
   "metadata": {},
   "source": [
    "# Search methods"
   ]
  },
  {
   "cell_type": "code",
   "execution_count": 11,
   "metadata": {},
   "outputs": [
    {
     "name": "stdout",
     "output_type": "stream",
     "text": [
      "array: [4 3 2 1 0]\n",
      "filter [array>2]: [4 3]\n",
      "argmax: 0\n",
      "argmin: 4\n",
      "np.where: (array([0, 1, 2]),)\n",
      "np.where_values: [0 3 2 0 0]\n"
     ]
    }
   ],
   "source": [
    "array=np.arange(5)[::-1]\n",
    "example_arrays={}\n",
    "example_arrays['array']=array\n",
    "example_arrays['filter [array>2]']=array[array>2]\n",
    "example_arrays['argmax']=np.argmax(array)\n",
    "example_arrays['argmin']=np.argmin(array)\n",
    "example_arrays['np.where_values']=np.where((array>1) & (array<4),array,0)\n",
    "\n",
    "for key,value in example_arrays.items():\n",
    "    print(f\"{key}: {value}\")"
   ]
  },
  {
   "cell_type": "code",
   "execution_count": 190,
   "metadata": {},
   "outputs": [
    {
     "name": "stdout",
     "output_type": "stream",
     "text": [
      "Broadcasting with np.where\n",
      "\n",
      "a: [[ 0  1  2  3]\n",
      " [ 4  5  6  7]\n",
      " [ 8  9 10 11]] \n",
      "\n",
      "b [[0 1 2 3]] \n",
      "\n",
      "c: [[ 0  1  2  3]\n",
      " [ 4 10 20 30]\n",
      " [ 0 10 20 30]]\n"
     ]
    }
   ],
   "source": [
    "print(\"Broadcasting with np.where\\n\")\n",
    "a = np.arange(12).reshape(3, 4)\n",
    "b = np.arange(4).reshape(1, 4)\n",
    "\n",
    "print('a:', a,'\\n')\n",
    "print('b', b,'\\n')\n",
    "# Broadcasts (a < 5, a, and b * 10)\n",
    "# of shape (3, 4), (3, 4) and (1, 4)\n",
    "c = np.where(a < 5, a, b * 10)\n",
    "\n",
    "print('c:', c)"
   ]
  },
  {
   "cell_type": "markdown",
   "metadata": {},
   "source": [
    "# Operations"
   ]
  },
  {
   "cell_type": "code",
   "execution_count": 243,
   "metadata": {},
   "outputs": [
    {
     "name": "stdout",
     "output_type": "stream",
     "text": [
      "array: [[10.5  9.1]\n",
      " [ 0.   0. ]]\n",
      "floor: [[10.  9.]\n",
      " [ 0.  0.]]\n",
      "ceil: [[11. 10.]\n",
      " [ 0.  0.]]\n",
      "np.sum: 19.6\n",
      "np.sum, axis=1: [19.6  0. ]\n",
      "np.delete, axis=1: [[10.5]\n",
      " [ 0. ]]\n"
     ]
    }
   ],
   "source": [
    "array=np.array([[10.5,9.1],[0,0]])\n",
    "example_arrays={}\n",
    "example_arrays['array']=array\n",
    "example_arrays['floor']=np.floor(array)\n",
    "example_arrays['ceil']=np.ceil(array)\n",
    "example_arrays['np.sum']=np.sum(array)\n",
    "example_arrays['np.sum, axis=1']=np.sum(array,axis=1)\n",
    "example_arrays['np.delete, axis=1']=np.delete(array,obj=1,axis=1)\n",
    "\n",
    "# example_arrays['np.where_values']=np.where((array>1) & (array<4),array,0)\n",
    "\n",
    "for key,value in example_arrays.items():\n",
    "    print(f\"{key}: {value}\")"
   ]
  },
  {
   "cell_type": "markdown",
   "metadata": {},
   "source": [
    "# Broadcasting"
   ]
  },
  {
   "cell_type": "code",
   "execution_count": 221,
   "metadata": {},
   "outputs": [
    {
     "name": "stdout",
     "output_type": "stream",
     "text": [
      "x: [[ 1  2  3]\n",
      " [ 4  5  6]\n",
      " [ 7  8  9]\n",
      " [10 11 12]]\n",
      "\n",
      "y: [1 0 1]\n",
      "\n",
      "x+y: [[ 2  2  4]\n",
      " [ 5  5  7]\n",
      " [ 8  8 10]\n",
      " [11 11 13]]\n",
      "\n"
     ]
    }
   ],
   "source": [
    "x = np.array([[1,2,3], [4,5,6], [7,8,9], [10, 11, 12]])\n",
    "y = np.array([1, 0, 1])\n",
    "example_arrays={}\n",
    "example_arrays['x']=x\n",
    "example_arrays['y']=y\n",
    "example_arrays['x+y']=x+y\n",
    "for key,value in example_arrays.items():\n",
    "    print(f\"{key}: {value}\\n\")"
   ]
  },
  {
   "cell_type": "markdown",
   "metadata": {},
   "source": [
    "# Matrix operations\n",
    "- operations are element wise\n",
    "- np.dot ==np.matmul (advised to use matmul for dimension>1)"
   ]
  },
  {
   "cell_type": "code",
   "execution_count": 216,
   "metadata": {},
   "outputs": [
    {
     "name": "stdout",
     "output_type": "stream",
     "text": [
      "x: [2 2 2]\n",
      "y: [3 3 3]\n",
      "x+y: [5 5 5]\n",
      "x**2: [4 4 4]\n",
      "np.dot(x,y): 18\n",
      "np.matmul(x,y): 18\n"
     ]
    }
   ],
   "source": [
    "x=np.array([2,2,2])\n",
    "y=np.array([3,3,3])\n",
    "example_arrays={}\n",
    "example_arrays['x']=x\n",
    "example_arrays['y']=y\n",
    "example_arrays['x+y']=x+y\n",
    "example_arrays['x**2']=x**2\n",
    "\n",
    "for key,value in example_arrays.items():\n",
    "    print(f\"{key}: {value}\")"
   ]
  },
  {
   "cell_type": "code",
   "execution_count": 218,
   "metadata": {},
   "outputs": [
    {
     "name": "stdout",
     "output_type": "stream",
     "text": [
      "x: [[2 2 2]\n",
      " [2 2 2]]\n",
      "y: [3 3 3]\n",
      "np.matmul(x,y): [18 18]\n"
     ]
    }
   ],
   "source": [
    "x=np.array([[2,2,2],[2,2,2]])\n",
    "y=np.array([3,3,3])\n",
    "example_arrays={}\n",
    "example_arrays['x']=x\n",
    "example_arrays['y']=y\n",
    "example_arrays['np.matmul(x,y)']=np.matmul(x,y)\n",
    "for key,value in example_arrays.items():\n",
    "    print(f\"{key}: {value}\")"
   ]
  },
  {
   "cell_type": "markdown",
   "metadata": {},
   "source": [
    "# Sorting methods"
   ]
  },
  {
   "cell_type": "code",
   "execution_count": 249,
   "metadata": {},
   "outputs": [
    {
     "name": "stdout",
     "output_type": "stream",
     "text": [
      "x: [[12  2  3]\n",
      " [ 4  5  6]\n",
      " [ 7  8  9]\n",
      " [10 11 12]]\n",
      "np.sort,axis=0: [[ 4  2  3]\n",
      " [ 7  5  6]\n",
      " [10  8  9]\n",
      " [12 11 12]]\n",
      "np.argsort,axis=0: [[1 0 0]\n",
      " [2 1 1]\n",
      " [3 2 2]\n",
      " [0 3 3]]\n"
     ]
    }
   ],
   "source": [
    "x = np.array([[12,2,3], [4,5,6], [7,8,9], [10, 11, 12]])\n",
    "np.sort(x,axis=0)\n",
    "np.argsort(x)\n",
    "example_arrays={}\n",
    "example_arrays['x']=x\n",
    "example_arrays['np.sort,axis=0']=np.sort(x,axis=0)\n",
    "example_arrays['np.argsort,axis=0']=np.argsort(x,axis=0)\n",
    "\n",
    "for key,value in example_arrays.items():\n",
    "    print(f\"{key}: {value}\")"
   ]
  },
  {
   "cell_type": "code",
   "execution_count": 5,
   "metadata": {},
   "outputs": [
    {
     "name": "stdout",
     "output_type": "stream",
     "text": [
      "[6 7 8 9]\n"
     ]
    }
   ],
   "source": [
    "a = np.array([[1, 2, 3], [4, 5, 6], [7, 8, 9]])\n",
    "mask = a > 5\n",
    "# Get elements greater than 5 with dimensions\n",
    "a[mask]\n",
    "print(a[mask])"
   ]
  },
  {
   "cell_type": "code",
   "execution_count": 10,
   "metadata": {},
   "outputs": [
    {
     "data": {
      "text/plain": [
       "4"
      ]
     },
     "execution_count": 10,
     "metadata": {},
     "output_type": "execute_result"
    }
   ],
   "source": [
    "len(a[a>5])"
   ]
  },
  {
   "cell_type": "code",
   "execution_count": null,
   "metadata": {},
   "outputs": [],
   "source": []
  }
 ],
 "metadata": {
  "kernelspec": {
   "display_name": "Python 3",
   "language": "python",
   "name": "python3"
  },
  "language_info": {
   "codemirror_mode": {
    "name": "ipython",
    "version": 3
   },
   "file_extension": ".py",
   "mimetype": "text/x-python",
   "name": "python",
   "nbconvert_exporter": "python",
   "pygments_lexer": "ipython3",
   "version": "3.12.0"
  }
 },
 "nbformat": 4,
 "nbformat_minor": 2
}
